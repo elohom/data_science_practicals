{
 "cells": [
  {
   "cell_type": "code",
   "execution_count": 1,
   "id": "3400b1c9",
   "metadata": {},
   "outputs": [],
   "source": [
    "# To calculate the PCA on a dataset\n",
    "# 1. Data Preprocessing to calculate the mean\n",
    "# 2. Calculate the covariance of the matrix\n",
    "# 3. Compute the eigenvalue and eigenvector\n",
    "# 4. Select the principal component\n",
    "# 5. Tranformation of data"
   ]
  },
  {
   "cell_type": "code",
   "execution_count": 2,
   "id": "78b506e3",
   "metadata": {},
   "outputs": [],
   "source": [
    "import numpy as np"
   ]
  },
  {
   "cell_type": "code",
   "execution_count": 54,
   "id": "6e4f1dc6",
   "metadata": {},
   "outputs": [],
   "source": [
    "X = np.array([[-2,2], [-4,-4],[4,4], [2,-2], [0,0]])"
   ]
  },
  {
   "cell_type": "code",
   "execution_count": 55,
   "id": "38821093",
   "metadata": {},
   "outputs": [
    {
     "name": "stdout",
     "output_type": "stream",
     "text": [
      "[[-2  2]\n",
      " [-4 -4]\n",
      " [ 4  4]\n",
      " [ 2 -2]\n",
      " [ 0  0]]\n"
     ]
    }
   ],
   "source": [
    "print (X)"
   ]
  },
  {
   "cell_type": "code",
   "execution_count": 56,
   "id": "cfaa1829",
   "metadata": {},
   "outputs": [
    {
     "name": "stdout",
     "output_type": "stream",
     "text": [
      "(5, 2)\n"
     ]
    }
   ],
   "source": [
    "print (X.shape)"
   ]
  },
  {
   "cell_type": "code",
   "execution_count": 57,
   "id": "f9959362",
   "metadata": {},
   "outputs": [
    {
     "data": {
      "text/plain": [
       "array([[-2,  2],\n",
       "       [-4, -4],\n",
       "       [ 4,  4],\n",
       "       [ 2, -2],\n",
       "       [ 0,  0]])"
      ]
     },
     "execution_count": 57,
     "metadata": {},
     "output_type": "execute_result"
    }
   ],
   "source": [
    "X"
   ]
  },
  {
   "cell_type": "code",
   "execution_count": 58,
   "id": "f72878d7",
   "metadata": {},
   "outputs": [],
   "source": [
    "# The data is preprocessed when the mean is Zero"
   ]
  },
  {
   "cell_type": "code",
   "execution_count": 59,
   "id": "241531db",
   "metadata": {},
   "outputs": [],
   "source": [
    "A = np.mean(X, axis=0)"
   ]
  },
  {
   "cell_type": "code",
   "execution_count": 60,
   "id": "3e450fdb",
   "metadata": {},
   "outputs": [
    {
     "data": {
      "text/plain": [
       "array([0., 0.])"
      ]
     },
     "execution_count": 60,
     "metadata": {},
     "output_type": "execute_result"
    }
   ],
   "source": [
    "A"
   ]
  },
  {
   "cell_type": "code",
   "execution_count": 61,
   "id": "e1c9ed9f",
   "metadata": {},
   "outputs": [
    {
     "data": {
      "text/plain": [
       "2"
      ]
     },
     "execution_count": 61,
     "metadata": {},
     "output_type": "execute_result"
    }
   ],
   "source": [
    "X.ndim"
   ]
  },
  {
   "cell_type": "code",
   "execution_count": 62,
   "id": "c682eea5",
   "metadata": {},
   "outputs": [],
   "source": [
    "# Why did we have to change the dimension of the array? - Ask Question"
   ]
  },
  {
   "cell_type": "code",
   "execution_count": 63,
   "id": "53aba13b",
   "metadata": {},
   "outputs": [],
   "source": [
    "#X=X[np.newaxis,:]"
   ]
  },
  {
   "cell_type": "code",
   "execution_count": 64,
   "id": "c6d0cda5",
   "metadata": {},
   "outputs": [
    {
     "data": {
      "text/plain": [
       "array([[-2,  2],\n",
       "       [-4, -4],\n",
       "       [ 4,  4],\n",
       "       [ 2, -2],\n",
       "       [ 0,  0]])"
      ]
     },
     "execution_count": 64,
     "metadata": {},
     "output_type": "execute_result"
    }
   ],
   "source": [
    "X"
   ]
  },
  {
   "cell_type": "code",
   "execution_count": 65,
   "id": "57abd7a0",
   "metadata": {},
   "outputs": [
    {
     "data": {
      "text/plain": [
       "2"
      ]
     },
     "execution_count": 65,
     "metadata": {},
     "output_type": "execute_result"
    }
   ],
   "source": [
    "X.ndim"
   ]
  },
  {
   "cell_type": "code",
   "execution_count": 66,
   "id": "535d5e2e",
   "metadata": {},
   "outputs": [],
   "source": [
    "#Always visualize the data first before commencing PCA"
   ]
  },
  {
   "cell_type": "code",
   "execution_count": 67,
   "id": "99a9cb62",
   "metadata": {},
   "outputs": [],
   "source": [
    "import matplotlib.pyplot as plt"
   ]
  },
  {
   "cell_type": "code",
   "execution_count": 68,
   "id": "ab20afe9",
   "metadata": {},
   "outputs": [
    {
     "name": "stdout",
     "output_type": "stream",
     "text": [
      "[[-2  2]\n",
      " [-4 -4]\n",
      " [ 4  4]\n",
      " [ 2 -2]\n",
      " [ 0  0]]\n"
     ]
    },
    {
     "data": {
      "text/plain": [
       "<matplotlib.collections.PathCollection at 0x7f97a870fbe0>"
      ]
     },
     "execution_count": 68,
     "metadata": {},
     "output_type": "execute_result"
    },
    {
     "data": {
      "image/png": "[encoded data removed]",
      "text/plain": [
       "<Figure size 432x288 with 1 Axes>"
      ]
     },
     "metadata": {
      "needs_background": "light"
     },
     "output_type": "display_data"
    }
   ],
   "source": [
    "fig = plt.figure()\n",
    "print(X)\n",
    "plt.subplot (1,2,1)\n",
    "plt.scatter(X[:,0], X[:,1], marker ='o')"
   ]
  },
  {
   "cell_type": "code",
   "execution_count": 18,
   "id": "354c2291",
   "metadata": {},
   "outputs": [],
   "source": [
    "# To compute the covariance sigma of X"
   ]
  },
  {
   "cell_type": "code",
   "execution_count": 71,
   "id": "af5b107e",
   "metadata": {},
   "outputs": [],
   "source": [
    "sigma= np.cov(X.T)"
   ]
  },
  {
   "cell_type": "code",
   "execution_count": 72,
   "id": "1dc34044",
   "metadata": {},
   "outputs": [
    {
     "data": {
      "text/plain": [
       "array([[10.,  6.],\n",
       "       [ 6., 10.]])"
      ]
     },
     "execution_count": 72,
     "metadata": {},
     "output_type": "execute_result"
    }
   ],
   "source": [
    "sigma"
   ]
  },
  {
   "cell_type": "code",
   "execution_count": 21,
   "id": "44da7155",
   "metadata": {},
   "outputs": [],
   "source": [
    "# Unable to calculate the Sigma of the covariance X (for 2 columns)"
   ]
  },
  {
   "cell_type": "code",
   "execution_count": 74,
   "id": "801b5ec5",
   "metadata": {},
   "outputs": [
    {
     "data": {
      "text/plain": [
       "array([[10.,  6.],\n",
       "       [ 6., 10.]])"
      ]
     },
     "execution_count": 74,
     "metadata": {},
     "output_type": "execute_result"
    }
   ],
   "source": [
    "sigma= np.cov(X[:,0], X[:,1])\n",
    "sigma"
   ]
  },
  {
   "cell_type": "code",
   "execution_count": 23,
   "id": "36be6bd0",
   "metadata": {},
   "outputs": [],
   "source": [
    "# compute the eigenvectors and eigenvalues of the covariance matrix (to indicate the direction in which the variance is the largest)"
   ]
  },
  {
   "cell_type": "code",
   "execution_count": 75,
   "id": "b73d09b5",
   "metadata": {},
   "outputs": [],
   "source": [
    "from numpy import linalg as LA\n",
    "eignVal, eignVec = LA.eig(sigma)"
   ]
  },
  {
   "cell_type": "code",
   "execution_count": null,
   "id": "84ed1ed0",
   "metadata": {},
   "outputs": [],
   "source": [
    "eignVal"
   ]
  },
  {
   "cell_type": "code",
   "execution_count": null,
   "id": "edb606d1",
   "metadata": {},
   "outputs": [],
   "source": [
    "# Check if the sum of the eignVal is equal to the sum along the main diagonal line of sigma. This confirms that your eigen decomposition is correct."
   ]
  },
  {
   "cell_type": "code",
   "execution_count": null,
   "id": "52dbe61e",
   "metadata": {},
   "outputs": [],
   "source": [
    "# To Project 𝑋 onto the eigenvectors to get projections (proj_x)"
   ]
  },
  {
   "cell_type": "code",
   "execution_count": null,
   "id": "fd21d8fa",
   "metadata": {},
   "outputs": [],
   "source": [
    "proj_X = np.matmul (X, eignVec)\n",
    "proj_X"
   ]
  },
  {
   "cell_type": "code",
   "execution_count": null,
   "id": "c5e8e1af",
   "metadata": {},
   "outputs": [],
   "source": [
    "plt.subplot(1,2,2)\n",
    "plt.scatter(proj_X[:,0], proj_X[:,1], marker = 'x')\n",
    "plt.show()"
   ]
  },
  {
   "cell_type": "code",
   "execution_count": null,
   "id": "7f226a89",
   "metadata": {},
   "outputs": [],
   "source": [
    "#Section B"
   ]
  },
  {
   "cell_type": "code",
   "execution_count": null,
   "id": "71223c12",
   "metadata": {},
   "outputs": [],
   "source": [
    "#Principal Component Analysis Using Scikit-Learn "
   ]
  },
  {
   "cell_type": "code",
   "execution_count": 77,
   "id": "828a9ce5",
   "metadata": {},
   "outputs": [
    {
     "data": {
      "text/plain": [
       "<matplotlib.collections.PathCollection at 0x7f977bd18250>"
      ]
     },
     "execution_count": 77,
     "metadata": {},
     "output_type": "execute_result"
    },
    {
     "data": {
      "image/png": "[encoded data removed]",
      "text/plain": [
       "<Figure size 720x216 with 2 Axes>"
      ]
     },
     "metadata": {
      "needs_background": "light"
     },
     "output_type": "display_data"
    }
   ],
   "source": [
    "from sklearn.decomposition import PCA\n",
    "pca = PCA(n_components = 2)\n",
    "proj_X_2 = pca.fit_transform(X)\n",
    "\n",
    "fig, ax = plt.subplots (1,2, figsize= (10,3))\n",
    "ax[0].set_title (\"The original data\")\n",
    "ax[0].scatter(X[:,0], X[:,1], marker = 'o')\n",
    "ax[1].set_title(\"The PCA Plot\")\n",
    "ax[1].scatter(proj_X_2[:,0], proj_X_2[:,1], marker = 'x')"
   ]
  },
  {
   "cell_type": "code",
   "execution_count": 78,
   "id": "829e0cb1",
   "metadata": {},
   "outputs": [],
   "source": [
    "#Comparing Principal Component Analysis Using Scikit-Learn for 3 subplots"
   ]
  },
  {
   "cell_type": "code",
   "execution_count": 79,
   "id": "9ff430d1",
   "metadata": {},
   "outputs": [
    {
     "ename": "NameError",
     "evalue": "name 'proj_X' is not defined",
     "output_type": "error",
     "traceback": [
      "\u001b[0;31m---------------------------------------------------------------------------\u001b[0m",
      "\u001b[0;31mNameError\u001b[0m                                 Traceback (most recent call last)",
      "Input \u001b[0;32mIn [79]\u001b[0m, in \u001b[0;36m<cell line: 7>\u001b[0;34m()\u001b[0m\n\u001b[1;32m      4\u001b[0m ax[\u001b[38;5;241m0\u001b[39m]\u001b[38;5;241m.\u001b[39mscatter(X[:,\u001b[38;5;241m0\u001b[39m], X[:,\u001b[38;5;241m1\u001b[39m], marker \u001b[38;5;241m=\u001b[39m \u001b[38;5;124m'\u001b[39m\u001b[38;5;124mo\u001b[39m\u001b[38;5;124m'\u001b[39m)\n\u001b[1;32m      6\u001b[0m ax[\u001b[38;5;241m1\u001b[39m]\u001b[38;5;241m.\u001b[39mset_title(\u001b[38;5;124m\"\u001b[39m\u001b[38;5;124mThe PCA Plot, Task 1 Result\u001b[39m\u001b[38;5;124m\"\u001b[39m)\n\u001b[0;32m----> 7\u001b[0m ax[\u001b[38;5;241m1\u001b[39m]\u001b[38;5;241m.\u001b[39mscatter(\u001b[43mproj_X\u001b[49m[:,\u001b[38;5;241m0\u001b[39m], proj_X[:,\u001b[38;5;241m1\u001b[39m], marker \u001b[38;5;241m=\u001b[39m \u001b[38;5;124m'\u001b[39m\u001b[38;5;124mx\u001b[39m\u001b[38;5;124m'\u001b[39m)\n\u001b[1;32m      9\u001b[0m ax[\u001b[38;5;241m2\u001b[39m]\u001b[38;5;241m.\u001b[39mset_title(\u001b[38;5;124m\"\u001b[39m\u001b[38;5;124mThe PCA Plot, Task 2 Result\u001b[39m\u001b[38;5;124m\"\u001b[39m)\n\u001b[1;32m     10\u001b[0m ax[\u001b[38;5;241m2\u001b[39m]\u001b[38;5;241m.\u001b[39mscatter(proj_X_2[:,\u001b[38;5;241m0\u001b[39m], proj_X_2[:,\u001b[38;5;241m1\u001b[39m], marker \u001b[38;5;241m=\u001b[39m \u001b[38;5;124m'\u001b[39m\u001b[38;5;124mp\u001b[39m\u001b[38;5;124m'\u001b[39m)\n",
      "\u001b[0;31mNameError\u001b[0m: name 'proj_X' is not defined"
     ]
    },
    {
     "data": {
      "image/png": "[encoded data removed]",
      "text/plain": [
       "<Figure size 720x216 with 3 Axes>"
      ]
     },
     "metadata": {
      "needs_background": "light"
     },
     "output_type": "display_data"
    }
   ],
   "source": [
    "fig, ax = plt.subplots (1,3, figsize= (10,3))\n",
    "\n",
    "ax[0].set_title (\"The original data\")\n",
    "ax[0].scatter(X[:,0], X[:,1], marker = 'o')\n",
    "\n",
    "ax[1].set_title(\"The PCA Plot, Task 1 Result\")\n",
    "ax[1].scatter(proj_X[:,0], proj_X[:,1], marker = 'x')\n",
    "\n",
    "ax[2].set_title(\"The PCA Plot, Task 2 Result\")\n",
    "ax[2].scatter(proj_X_2[:,0], proj_X_2[:,1], marker = 'p')"
   ]
  },
  {
   "cell_type": "code",
   "execution_count": null,
   "id": "678f3db2",
   "metadata": {},
   "outputs": [],
   "source": [
    "# How to find out more on PCA"
   ]
  },
  {
   "cell_type": "code",
   "execution_count": null,
   "id": "672069b5",
   "metadata": {},
   "outputs": [],
   "source": [
    "from sklearn.decomposition import PCA\n",
    "PCA?"
   ]
  },
  {
   "cell_type": "code",
   "execution_count": null,
   "id": "f6910ddb",
   "metadata": {},
   "outputs": [],
   "source": [
    "# How to use pca Transform"
   ]
  },
  {
   "cell_type": "code",
   "execution_count": null,
   "id": "663e230a",
   "metadata": {},
   "outputs": [],
   "source": [
    "pca.model.transform?"
   ]
  },
  {
   "cell_type": "code",
   "execution_count": null,
   "id": "6a4f562e",
   "metadata": {},
   "outputs": [],
   "source": [
    "proj_X_3 = pca.transform (X)\n",
    "proj_X_3"
   ]
  },
  {
   "cell_type": "code",
   "execution_count": null,
   "id": "de2b8552",
   "metadata": {},
   "outputs": [],
   "source": [
    "# How to use pca fit (ensure to get the model before transforming the data)"
   ]
  },
  {
   "cell_type": "code",
   "execution_count": null,
   "id": "56f18ed0",
   "metadata": {},
   "outputs": [],
   "source": [
    "pca_model = pca.fit(X)\n",
    "pca"
   ]
  },
  {
   "cell_type": "code",
   "execution_count": null,
   "id": "a9a5f643",
   "metadata": {},
   "outputs": [],
   "source": [
    "pca.model.components_"
   ]
  },
  {
   "cell_type": "code",
   "execution_count": null,
   "id": "6fc262c5",
   "metadata": {},
   "outputs": [],
   "source": [
    "#Section C - Singular Value Decomposition"
   ]
  },
  {
   "cell_type": "code",
   "execution_count": null,
   "id": "345ee34f",
   "metadata": {},
   "outputs": [],
   "source": [
    "# Define the matrix\n",
    "# Find Transpose of X\n",
    "# Compute X^T X\n",
    "# Find the eigenvector and eigenvalue of the vector\n",
    "# Find the singular value of the matrix S and the right singular value V\n",
    "# Setup the left singular value U\n",
    "# Compare the results obtained using the SVD function in python"
   ]
  },
  {
   "cell_type": "code",
   "execution_count": null,
   "id": "55cdbd0d",
   "metadata": {},
   "outputs": [],
   "source": [
    "from numpy import linalg as LA\n",
    "X = np.array ([[-2,0], [0,-1]])\n",
    "print (X)"
   ]
  },
  {
   "cell_type": "code",
   "execution_count": null,
   "id": "19b91420",
   "metadata": {},
   "outputs": [],
   "source": [
    "X_T = np.transpose(X)\n",
    "print (X_T)"
   ]
  },
  {
   "cell_type": "code",
   "execution_count": null,
   "id": "0ba61b24",
   "metadata": {},
   "outputs": [],
   "source": [
    "M= X_T*X\n",
    "print (M)"
   ]
  },
  {
   "cell_type": "code",
   "execution_count": null,
   "id": "4f4216ae",
   "metadata": {},
   "outputs": [],
   "source": [
    "eignVal_M, eignVec_M = LA.eig(M)"
   ]
  },
  {
   "cell_type": "code",
   "execution_count": null,
   "id": "34dd37c6",
   "metadata": {},
   "outputs": [],
   "source": [
    "eignVal_M"
   ]
  },
  {
   "cell_type": "code",
   "execution_count": null,
   "id": "609b0ffe",
   "metadata": {},
   "outputs": [],
   "source": [
    "eignVec_M"
   ]
  },
  {
   "cell_type": "code",
   "execution_count": null,
   "id": "24e56ec1",
   "metadata": {},
   "outputs": [],
   "source": [
    "# Singular vectors of M are eigenvectors sorted in decreasing order of eigenvalues and by default python gives the sorted eigenvectors."
   ]
  },
  {
   "cell_type": "code",
   "execution_count": null,
   "id": "cf595c8e",
   "metadata": {},
   "outputs": [],
   "source": [
    "S = np.array([[2,0], [0,1]])\n",
    "V = eignVec_M\n",
    "v1 = eignVec_M[:,0]\n",
    "v2 = eignVec_M[:,1]\n",
    "U1 = X@v1/2\n",
    "U2 = X@v2/1\n",
    "print (U1)\n",
    "print (U2)"
   ]
  },
  {
   "cell_type": "code",
   "execution_count": null,
   "id": "162e9242",
   "metadata": {},
   "outputs": [],
   "source": [
    "print (U1)"
   ]
  },
  {
   "cell_type": "code",
   "execution_count": null,
   "id": "5ce947e0",
   "metadata": {},
   "outputs": [],
   "source": [
    "print (U2)"
   ]
  },
  {
   "cell_type": "code",
   "execution_count": null,
   "id": "14f7674d",
   "metadata": {},
   "outputs": [],
   "source": [
    "U = np.array([U1,U2])\n",
    "U"
   ]
  },
  {
   "cell_type": "code",
   "execution_count": null,
   "id": "a0348059",
   "metadata": {},
   "outputs": [],
   "source": [
    "# Using the SVD funtion from python to derive U"
   ]
  },
  {
   "cell_type": "code",
   "execution_count": null,
   "id": "94498bc8",
   "metadata": {},
   "outputs": [],
   "source": [
    "from numpy.linalg import svd\n",
    "[u,s,v] = svd(X)\n",
    "print (\"u :\", u)\n",
    "print ()\n",
    "print (\"s :\", s)\n",
    "print()\n",
    "print (\"v :\", v)"
   ]
  },
  {
   "cell_type": "code",
   "execution_count": null,
   "id": "83a4a1ff",
   "metadata": {},
   "outputs": [],
   "source": [
    "# Compressing an Image using Singular Vector Decomposition  (In SVD task file)"
   ]
  },
  {
   "cell_type": "code",
   "execution_count": null,
   "id": "8c47764e",
   "metadata": {},
   "outputs": [],
   "source": [
    "#Section D: Condiction statements and control flow"
   ]
  },
  {
   "cell_type": "code",
   "execution_count": 85,
   "id": "cf372684",
   "metadata": {},
   "outputs": [
    {
     "name": "stdout",
     "output_type": "stream",
     "text": [
      "Enter 1, 2 or 3:1\n",
      "Hello\n"
     ]
    }
   ],
   "source": [
    "#If loop\n",
    "userInput = input('Enter 1, 2 or 3:')\n",
    "\n",
    "if (userInput == '1') | (userInput == '2') | (userInput == '3'):\n",
    "    print ('Hello')\n",
    "else:\n",
    "    print ('You did not enter the valid number')"
   ]
  },
  {
   "cell_type": "code",
   "execution_count": null,
   "id": "e86c596b",
   "metadata": {},
   "outputs": [],
   "source": [
    "userInput = input ('Enter 1,2 or 3:')\n",
    "\n",
    "if (userInput == '1') | (userInput == '2') | \n",
    "print ['Hello']\n",
    "elif userInput == '3':\n",
    "    print ['I love Python']\n",
    "else:\n",
    "    print ('You did not enter the valid number')"
   ]
  },
  {
   "cell_type": "code",
   "execution_count": null,
   "id": "3662659e",
   "metadata": {},
   "outputs": [],
   "source": []
  },
  {
   "cell_type": "code",
   "execution_count": null,
   "id": "faf531e7",
   "metadata": {},
   "outputs": [],
   "source": []
  },
  {
   "cell_type": "code",
   "execution_count": null,
   "id": "071d22ee",
   "metadata": {},
   "outputs": [],
   "source": []
  }
 ],
 "metadata": {
  "kernelspec": {
   "display_name": "Python 3 (ipykernel)",
   "language": "python",
   "name": "python3"
  },
  "language_info": {
   "codemirror_mode": {
    "name": "ipython",
    "version": 3
   },
   "file_extension": ".py",
   "mimetype": "text/x-python",
   "name": "python",
   "nbconvert_exporter": "python",
   "pygments_lexer": "ipython3",
   "version": "3.9.12"
  }
 },
 "nbformat": 4,
 "nbformat_minor": 5
}
