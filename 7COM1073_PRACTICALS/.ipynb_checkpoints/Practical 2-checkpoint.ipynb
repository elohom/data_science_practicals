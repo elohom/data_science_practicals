{
 "cells": [
  {
   "cell_type": "code",
   "execution_count": 1,
   "id": "78086060",
   "metadata": {},
   "outputs": [
    {
     "name": "stdout",
     "output_type": "stream",
     "text": [
      "M+N= [[  3  -1]\n",
      " [ 13 -14]]\n",
      "M*N= [[  2 -12]\n",
      " [ 40  48]]\n",
      "M@N= [[ 26 -26]\n",
      " [-59  28]]\n",
      "M.dot(N)= [[ 26 -26]\n",
      " [-59  28]]\n",
      "The transpose of M is= [[ 2  5]\n",
      " [ 3 -8]]\n"
     ]
    }
   ],
   "source": [
    "import numpy as np\n",
    "M = np.array([[2,3], [5,-8]])\n",
    "N = np.array([[1,-4], [8,-6]])\n",
    "\n",
    "print (\"M+N=\", M+N)\n",
    "print (\"M*N=\", M*N)\n",
    "print (\"M@N=\", M@N)\n",
    "print (\"M.dot(N)=\", M.dot(N))\n",
    "print (\"The transpose of M is=\", np.transpose(M))"
   ]
  },
  {
   "cell_type": "code",
   "execution_count": 2,
   "id": "5e000d9c",
   "metadata": {},
   "outputs": [],
   "source": [
    "#numpy.linalg is a class having a standard set of things like inverse, determinant and matrix Decomposition."
   ]
  },
  {
   "cell_type": "code",
   "execution_count": 3,
   "id": "3f879aa5",
   "metadata": {},
   "outputs": [],
   "source": [
    "import numpy.linalg as LA"
   ]
  },
  {
   "cell_type": "code",
   "execution_count": 4,
   "id": "03ca97c7",
   "metadata": {},
   "outputs": [],
   "source": [
    "#To compute inverse of a Matrix using LA.inv(M)"
   ]
  },
  {
   "cell_type": "code",
   "execution_count": 8,
   "id": "6eafa5af",
   "metadata": {},
   "outputs": [],
   "source": [
    "import numpy.linalg as LA\n",
    "import numpy as np\n",
    "A = np.array ([[3,1,0], [1,4,0],[2,0,5] ])"
   ]
  },
  {
   "cell_type": "code",
   "execution_count": 9,
   "id": "107121c4",
   "metadata": {},
   "outputs": [
    {
     "name": "stdout",
     "output_type": "stream",
     "text": [
      "[[3 1 0]\n",
      " [1 4 0]\n",
      " [2 0 5]]\n"
     ]
    }
   ],
   "source": [
    "print (A)"
   ]
  },
  {
   "cell_type": "code",
   "execution_count": 5,
   "id": "94ab570c",
   "metadata": {},
   "outputs": [],
   "source": [
    "#To compute inverse of a Matrix using LA.det(M)"
   ]
  },
  {
   "cell_type": "code",
   "execution_count": 10,
   "id": "51199f1b",
   "metadata": {},
   "outputs": [],
   "source": [
    "import numpy.linalg as LA\n",
    "import numpy as np\n",
    "A = np.array ([[3,1,0], [1,4,0],[2,0,5] ])\n",
    "eignVal, eignVec = LA.eig(A)"
   ]
  },
  {
   "cell_type": "code",
   "execution_count": 13,
   "id": "bbec0ac0",
   "metadata": {},
   "outputs": [
    {
     "data": {
      "text/plain": [
       "array([5.        , 4.61803399, 2.38196601])"
      ]
     },
     "execution_count": 13,
     "metadata": {},
     "output_type": "execute_result"
    }
   ],
   "source": [
    "eignVal"
   ]
  },
  {
   "cell_type": "code",
   "execution_count": 14,
   "id": "e2b1dd5e",
   "metadata": {},
   "outputs": [
    {
     "data": {
      "text/plain": [
       "array([[ 0.        ,  0.17950561,  0.71327508],\n",
       "       [ 0.        ,  0.29044618, -0.44082824],\n",
       "       [ 1.        , -0.93990359, -0.54489368]])"
      ]
     },
     "execution_count": 14,
     "metadata": {},
     "output_type": "execute_result"
    }
   ],
   "source": [
    "eignVec"
   ]
  },
  {
   "cell_type": "code",
   "execution_count": 15,
   "id": "4c29f0fc",
   "metadata": {},
   "outputs": [],
   "source": [
    "#Comparison and Boolean Logic"
   ]
  },
  {
   "cell_type": "code",
   "execution_count": 16,
   "id": "fa52957c",
   "metadata": {},
   "outputs": [],
   "source": [
    "x3 = np.arange(15)"
   ]
  },
  {
   "cell_type": "code",
   "execution_count": 17,
   "id": "590886c3",
   "metadata": {},
   "outputs": [
    {
     "name": "stdout",
     "output_type": "stream",
     "text": [
      "[ 0  1  2  3  4  5  6  7  8  9 10 11 12 13 14]\n"
     ]
    }
   ],
   "source": [
    "print (x3)"
   ]
  },
  {
   "cell_type": "code",
   "execution_count": null,
   "id": "a0f6f438",
   "metadata": {
    "collapsed": true
   },
   "outputs": [],
   "source": [
    "#To get the sum of elements whose value is greater than 10 or less than 3"
   ]
  },
  {
   "cell_type": "code",
   "execution_count": 18,
   "id": "9cc014b6",
   "metadata": {},
   "outputs": [],
   "source": [
    "sx3= np.sum(x3[(x3>10)|(x3<3)])"
   ]
  },
  {
   "cell_type": "code",
   "execution_count": 19,
   "id": "a4b5948c",
   "metadata": {},
   "outputs": [
    {
     "name": "stdout",
     "output_type": "stream",
     "text": [
      "53\n"
     ]
    }
   ],
   "source": [
    "print (sx3)"
   ]
  },
  {
   "cell_type": "code",
   "execution_count": 20,
   "id": "ccf041b9",
   "metadata": {},
   "outputs": [],
   "source": [
    "a= x3"
   ]
  },
  {
   "cell_type": "code",
   "execution_count": 21,
   "id": "1cf1ae9f",
   "metadata": {},
   "outputs": [
    {
     "name": "stdout",
     "output_type": "stream",
     "text": [
      "[ 0  1  2  3  4  5  6  7  8  9 10 11 12 13 14]\n"
     ]
    }
   ],
   "source": [
    "print (a)"
   ]
  },
  {
   "cell_type": "code",
   "execution_count": 22,
   "id": "5ef69227",
   "metadata": {},
   "outputs": [],
   "source": [
    "a= x3[(x3<=10) &(x3>=3)]"
   ]
  },
  {
   "cell_type": "code",
   "execution_count": 23,
   "id": "108a58c4",
   "metadata": {},
   "outputs": [
    {
     "name": "stdout",
     "output_type": "stream",
     "text": [
      "[ 3  4  5  6  7  8  9 10]\n"
     ]
    }
   ],
   "source": [
    "print (a)"
   ]
  },
  {
   "cell_type": "code",
   "execution_count": 28,
   "id": "8d45036d",
   "metadata": {},
   "outputs": [],
   "source": [
    "b= x3[(x3<=10) | (x3>=3)]"
   ]
  },
  {
   "cell_type": "code",
   "execution_count": 29,
   "id": "11847878",
   "metadata": {},
   "outputs": [
    {
     "name": "stdout",
     "output_type": "stream",
     "text": [
      "[ 0  1  2  3  4  5  6  7  8  9 10 11 12 13 14]\n"
     ]
    }
   ],
   "source": [
    "print (b)"
   ]
  },
  {
   "cell_type": "code",
   "execution_count": 30,
   "id": "82293d15",
   "metadata": {},
   "outputs": [],
   "source": [
    "c= x3[~(x3>5)]"
   ]
  },
  {
   "cell_type": "code",
   "execution_count": 31,
   "id": "2388eab8",
   "metadata": {},
   "outputs": [
    {
     "name": "stdout",
     "output_type": "stream",
     "text": [
      "[0 1 2 3 4 5]\n"
     ]
    }
   ],
   "source": [
    "print (c)"
   ]
  },
  {
   "cell_type": "code",
   "execution_count": 32,
   "id": "556b3508",
   "metadata": {},
   "outputs": [],
   "source": [
    "#To select datapoints from a dataset randomly"
   ]
  },
  {
   "cell_type": "code",
   "execution_count": 37,
   "id": "7b526670",
   "metadata": {},
   "outputs": [
    {
     "name": "stdout",
     "output_type": "stream",
     "text": [
      "[23 44 19 17 15 30 38 17 47 32]\n"
     ]
    }
   ],
   "source": [
    "rand = np.random.RandomState(421)\n",
    "rx = rand.randint(50, size=10)\n",
    "print (rx)"
   ]
  },
  {
   "cell_type": "code",
   "execution_count": null,
   "id": "07167aa1",
   "metadata": {},
   "outputs": [],
   "source": [
    "#Randomly select 5 data points from the array."
   ]
  },
  {
   "cell_type": "code",
   "execution_count": 39,
   "id": "54994394",
   "metadata": {},
   "outputs": [
    {
     "data": {
      "text/plain": [
       "array([7, 0, 4, 9, 8])"
      ]
     },
     "execution_count": 39,
     "metadata": {},
     "output_type": "execute_result"
    }
   ],
   "source": [
    "indices = np.random.choice(rx.shape[0], 5, replace=False)\n",
    "indices"
   ]
  },
  {
   "cell_type": "code",
   "execution_count": 41,
   "id": "bc9dce7b",
   "metadata": {},
   "outputs": [
    {
     "name": "stdout",
     "output_type": "stream",
     "text": [
      "[17 23 15 32 47]\n"
     ]
    }
   ],
   "source": [
    "selected = rx [indices]\n",
    "print (selected)"
   ]
  },
  {
   "cell_type": "code",
   "execution_count": 42,
   "id": "d70a6bb4",
   "metadata": {},
   "outputs": [],
   "source": [
    "#Sorting Arrays"
   ]
  },
  {
   "cell_type": "code",
   "execution_count": 43,
   "id": "a1bc2cfa",
   "metadata": {},
   "outputs": [],
   "source": [
    "#np.sort: return a sorted version of the array. \n",
    "#np.argsort: return the indices of the sorted elements"
   ]
  },
  {
   "cell_type": "code",
   "execution_count": 44,
   "id": "30d3b296",
   "metadata": {},
   "outputs": [],
   "source": [
    "np.sort?"
   ]
  },
  {
   "cell_type": "code",
   "execution_count": 8,
   "id": "0f22ede7",
   "metadata": {},
   "outputs": [
    {
     "data": {
      "text/plain": [
       "array([-1,  3,  9, 10])"
      ]
     },
     "execution_count": 8,
     "metadata": {},
     "output_type": "execute_result"
    }
   ],
   "source": [
    "import numpy as np\n",
    "x4= np.array([10,9,-1,3])\n",
    "np.sort (x4)"
   ]
  },
  {
   "cell_type": "code",
   "execution_count": 9,
   "id": "2c55e28c",
   "metadata": {},
   "outputs": [],
   "source": [
    "#To define Functions"
   ]
  },
  {
   "cell_type": "code",
   "execution_count": 10,
   "id": "bfdfadf9",
   "metadata": {},
   "outputs": [],
   "source": [
    "def addMatrices(a,b):\n",
    "    '''adds two 2x2 matrices together'''\n",
    "    C = [[a[0][0]+b[0][0], a[0][1]+b[0][1]], [a[1][0]+b[1][0], a[1][1]+b[1][1]]]\n",
    "    return C"
   ]
  },
  {
   "cell_type": "code",
   "execution_count": 11,
   "id": "40512a08",
   "metadata": {},
   "outputs": [],
   "source": [
    "\n",
    "M1 = np.array ([[0,1], [1,0]])\n",
    "M2 = np.array ([[1,1], [1,0]])"
   ]
  },
  {
   "cell_type": "code",
   "execution_count": 12,
   "id": "666925cd",
   "metadata": {},
   "outputs": [
    {
     "data": {
      "text/plain": [
       "[[1, 2], [2, 0]]"
      ]
     },
     "execution_count": 12,
     "metadata": {},
     "output_type": "execute_result"
    }
   ],
   "source": [
    " addMatrices(M1,M2)"
   ]
  },
  {
   "cell_type": "code",
   "execution_count": 16,
   "id": "54854621",
   "metadata": {},
   "outputs": [],
   "source": [
    "def addMatrices (c,d):\n",
    "    '''adds two 2x2 matrices together'''\n",
    "    E = [[c[0][0]+d[0][0], c[0][1]+d[0][1]], \n",
    "         [c[1][0]+d[1][0], c[1][1]+d[1][1]]]\n",
    "    return E\n",
    "c = np.array([[1,2], [8,-3]])\n",
    "d = np.array([[0,10], [-2,6]])"
   ]
  },
  {
   "cell_type": "code",
   "execution_count": 17,
   "id": "17e78f35",
   "metadata": {},
   "outputs": [],
   "source": [
    "E = addMatrices(c,d)"
   ]
  },
  {
   "cell_type": "code",
   "execution_count": 18,
   "id": "f0f86f43",
   "metadata": {},
   "outputs": [
    {
     "name": "stdout",
     "output_type": "stream",
     "text": [
      "[[1, 12], [6, 3]]\n"
     ]
    }
   ],
   "source": [
    "print (E)"
   ]
  },
  {
   "cell_type": "code",
   "execution_count": 45,
   "id": "32753ad3",
   "metadata": {},
   "outputs": [],
   "source": [
    "def addMatrices (a):\n",
    "    '''adds the vectors across the diagonal of a three 3x3 matrices together'''\n",
    "    H = [[a[0][0]+a[1][1]+a[2][2]]]\n",
    "          \n",
    "    return H\n",
    "        "
   ]
  },
  {
   "cell_type": "code",
   "execution_count": 46,
   "id": "72d3af68",
   "metadata": {},
   "outputs": [],
   "source": [
    "A = np.array([[1,2,3], [0,10,-5], [-6,-2,11]])"
   ]
  },
  {
   "cell_type": "code",
   "execution_count": 47,
   "id": "30de22a3",
   "metadata": {},
   "outputs": [
    {
     "data": {
      "text/plain": [
       "array([[ 1,  2,  3],\n",
       "       [ 0, 10, -5],\n",
       "       [-6, -2, 11]])"
      ]
     },
     "execution_count": 47,
     "metadata": {},
     "output_type": "execute_result"
    }
   ],
   "source": [
    "A"
   ]
  },
  {
   "cell_type": "code",
   "execution_count": 48,
   "id": "71e697c4",
   "metadata": {},
   "outputs": [],
   "source": [
    "B = addMatrices (A)"
   ]
  },
  {
   "cell_type": "code",
   "execution_count": 49,
   "id": "649d0a9c",
   "metadata": {},
   "outputs": [
    {
     "name": "stdout",
     "output_type": "stream",
     "text": [
      "[[22]]\n"
     ]
    }
   ],
   "source": [
    "print (B)"
   ]
  },
  {
   "cell_type": "code",
   "execution_count": 50,
   "id": "e727b40d",
   "metadata": {},
   "outputs": [],
   "source": [
    "# To input the square of a matrix"
   ]
  },
  {
   "cell_type": "code",
   "execution_count": 51,
   "id": "5608dfba",
   "metadata": {},
   "outputs": [],
   "source": [
    "def square(x):\n",
    "    '''Return the square x'''\n",
    "    return x**2"
   ]
  },
  {
   "cell_type": "code",
   "execution_count": 52,
   "id": "fcefc409",
   "metadata": {},
   "outputs": [],
   "source": [
    "square?"
   ]
  },
  {
   "cell_type": "code",
   "execution_count": 53,
   "id": "a03b6b43",
   "metadata": {},
   "outputs": [],
   "source": [
    "square??"
   ]
  },
  {
   "cell_type": "code",
   "execution_count": 54,
   "id": "3f3a3487",
   "metadata": {},
   "outputs": [],
   "source": [
    "print??"
   ]
  },
  {
   "cell_type": "code",
   "execution_count": 55,
   "id": "5b314afd",
   "metadata": {},
   "outputs": [],
   "source": [
    "#Data type in python, which refers to the type of data the variable stores."
   ]
  },
  {
   "cell_type": "code",
   "execution_count": 56,
   "id": "3abfbc9c",
   "metadata": {},
   "outputs": [],
   "source": [
    "# 1. To define a string, you can use a single quote '' and combine multiple strings by using + sign"
   ]
  },
  {
   "cell_type": "code",
   "execution_count": 58,
   "id": "01a18059",
   "metadata": {},
   "outputs": [],
   "source": [
    "firstname = 'Eloho'\n",
    "surname = 'Mukoro'"
   ]
  },
  {
   "cell_type": "code",
   "execution_count": 59,
   "id": "ac774799",
   "metadata": {},
   "outputs": [],
   "source": [
    "Fullname = firstname + \" \" + surname"
   ]
  },
  {
   "cell_type": "code",
   "execution_count": 60,
   "id": "60625ead",
   "metadata": {},
   "outputs": [
    {
     "name": "stdout",
     "output_type": "stream",
     "text": [
      "Eloho Mukoro\n"
     ]
    }
   ],
   "source": [
    "print (Fullname)"
   ]
  },
  {
   "cell_type": "code",
   "execution_count": 61,
   "id": "475faaea",
   "metadata": {},
   "outputs": [],
   "source": [
    "# 2. List is a type od data variable that is a collection of data which are normally related. They are seperated by commas and square brackets are used while declaring a list."
   ]
  },
  {
   "cell_type": "code",
   "execution_count": 62,
   "id": "33bd6c30",
   "metadata": {},
   "outputs": [],
   "source": [
    "mylist = [1,2,3,4,'Eloho']"
   ]
  },
  {
   "cell_type": "code",
   "execution_count": 63,
   "id": "040a01f3",
   "metadata": {},
   "outputs": [
    {
     "data": {
      "text/plain": [
       "[1, 2, 3, 4, 'Eloho']"
      ]
     },
     "execution_count": 63,
     "metadata": {},
     "output_type": "execute_result"
    }
   ],
   "source": [
    "mylist"
   ]
  },
  {
   "cell_type": "code",
   "execution_count": 69,
   "id": "11c00c51",
   "metadata": {},
   "outputs": [],
   "source": [
    "mylist.insert(1,'e')"
   ]
  },
  {
   "cell_type": "code",
   "execution_count": 67,
   "id": "4404d4d5",
   "metadata": {},
   "outputs": [
    {
     "data": {
      "text/plain": [
       "[1, 'e', 2, 3, 4, 'Eloho']"
      ]
     },
     "execution_count": 67,
     "metadata": {},
     "output_type": "execute_result"
    }
   ],
   "source": [
    "mylist"
   ]
  },
  {
   "cell_type": "code",
   "execution_count": 70,
   "id": "0a0bcdd5",
   "metadata": {},
   "outputs": [],
   "source": [
    "mylist.append(0)"
   ]
  },
  {
   "cell_type": "code",
   "execution_count": 71,
   "id": "cb46cfbe",
   "metadata": {},
   "outputs": [
    {
     "data": {
      "text/plain": [
       "[1, 'e', 'e', 2, 3, 4, 'Eloho', 0]"
      ]
     },
     "execution_count": 71,
     "metadata": {},
     "output_type": "execute_result"
    }
   ],
   "source": [
    "mylist"
   ]
  },
  {
   "cell_type": "code",
   "execution_count": 72,
   "id": "840c4bc3",
   "metadata": {},
   "outputs": [],
   "source": [
    "# 3. Dictionary: This is a collection of related data pair, which stores data."
   ]
  },
  {
   "cell_type": "code",
   "execution_count": 73,
   "id": "04edf505",
   "metadata": {},
   "outputs": [],
   "source": [
    "myDictionary = {\"Peter\":80, \"Mary\":59, \"Ann\":81, \"David\":50, \"Joe\":62}"
   ]
  },
  {
   "cell_type": "code",
   "execution_count": 75,
   "id": "8e7fc760",
   "metadata": {},
   "outputs": [
    {
     "data": {
      "text/plain": [
       "{'Peter': 80, 'Mary': 59, 'Ann': 81, 'David': 50, 'Joe': 62}"
      ]
     },
     "execution_count": 75,
     "metadata": {},
     "output_type": "execute_result"
    }
   ],
   "source": [
    "myDictionary"
   ]
  },
  {
   "cell_type": "code",
   "execution_count": 76,
   "id": "16f3113d",
   "metadata": {},
   "outputs": [],
   "source": [
    "myDictionary = {\"Peter\":80, \"Mary\":59, \"Ann\":81, \"David\":50, \"Peter\":62}"
   ]
  },
  {
   "cell_type": "code",
   "execution_count": 77,
   "id": "afa483fe",
   "metadata": {},
   "outputs": [
    {
     "data": {
      "text/plain": [
       "{'Peter': 62, 'Mary': 59, 'Ann': 81, 'David': 50}"
      ]
     },
     "execution_count": 77,
     "metadata": {},
     "output_type": "execute_result"
    }
   ],
   "source": [
    "myDictionary"
   ]
  },
  {
   "cell_type": "code",
   "execution_count": 78,
   "id": "5370b7a1",
   "metadata": {},
   "outputs": [
    {
     "data": {
      "text/plain": [
       "62"
      ]
     },
     "execution_count": 78,
     "metadata": {},
     "output_type": "execute_result"
    }
   ],
   "source": [
    "myDictionary [\"Peter\"]"
   ]
  },
  {
   "cell_type": "code",
   "execution_count": null,
   "id": "e8ae567e",
   "metadata": {},
   "outputs": [],
   "source": []
  }
 ],
 "metadata": {
  "kernelspec": {
   "display_name": "Python 3.9.6 64-bit",
   "language": "python",
   "name": "python3"
  },
  "language_info": {
   "codemirror_mode": {
    "name": "ipython",
    "version": 3
   },
   "file_extension": ".py",
   "mimetype": "text/x-python",
   "name": "python",
   "nbconvert_exporter": "python",
   "pygments_lexer": "ipython3",
   "version": "3.9.6"
  },
  "vscode": {
   "interpreter": {
    "hash": "31f2aee4e71d21fbe5cf8b01ff0e069b9275f58929596ceb00d14d90e3e16cd6"
   }
  }
 },
 "nbformat": 4,
 "nbformat_minor": 5
}
