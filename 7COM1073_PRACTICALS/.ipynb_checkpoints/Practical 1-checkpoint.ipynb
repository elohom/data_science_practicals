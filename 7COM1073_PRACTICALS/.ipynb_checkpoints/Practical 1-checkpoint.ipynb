{
 "cells": [
  {
   "cell_type": "code",
   "execution_count": null,
   "id": "9ee3d90f",
   "metadata": {},
   "outputs": [],
   "source": []
  },
  {
   "cell_type": "code",
   "execution_count": 9,
   "id": "aef0559a",
   "metadata": {
    "scrolled": true
   },
   "outputs": [
    {
     "name": "stdout",
     "output_type": "stream",
     "text": [
      "Help on built-in function len in module builtins:\n",
      "\n",
      "len(obj, /)\n",
      "    Return the number of items in a container.\n",
      "\n"
     ]
    }
   ],
   "source": [
    "help (len)"
   ]
  },
  {
   "cell_type": "code",
   "execution_count": 10,
   "id": "c3a526e5",
   "metadata": {},
   "outputs": [],
   "source": [
    "len?"
   ]
  },
  {
   "cell_type": "code",
   "execution_count": 11,
   "id": "640cb875",
   "metadata": {},
   "outputs": [],
   "source": [
    "# To learn or enquire on a funtion, you type the ? sign"
   ]
  },
  {
   "cell_type": "code",
   "execution_count": 12,
   "id": "9a5b6b5e",
   "metadata": {},
   "outputs": [],
   "source": [
    "len?"
   ]
  },
  {
   "cell_type": "code",
   "execution_count": 13,
   "id": "3e01efc1",
   "metadata": {},
   "outputs": [
    {
     "data": {
      "text/plain": [
       "'1.21.5'"
      ]
     },
     "execution_count": 13,
     "metadata": {},
     "output_type": "execute_result"
    }
   ],
   "source": [
    "# To confirm the version of the Numpy\n",
    "import numpy as np\n",
    "np.__version__"
   ]
  },
  {
   "cell_type": "code",
   "execution_count": 14,
   "id": "31235d00",
   "metadata": {},
   "outputs": [],
   "source": [
    "# To display all content of numpy + tab key"
   ]
  },
  {
   "cell_type": "code",
   "execution_count": 15,
   "id": "ed328be6",
   "metadata": {},
   "outputs": [],
   "source": [
    "# To generate an array using numpy"
   ]
  },
  {
   "cell_type": "code",
   "execution_count": 16,
   "id": "87514381",
   "metadata": {},
   "outputs": [],
   "source": [
    "A = np.array ([1,2,3,4])"
   ]
  },
  {
   "cell_type": "code",
   "execution_count": 17,
   "id": "5514537a",
   "metadata": {},
   "outputs": [
    {
     "data": {
      "text/plain": [
       "array([1, 2, 3, 4])"
      ]
     },
     "execution_count": 17,
     "metadata": {},
     "output_type": "execute_result"
    }
   ],
   "source": [
    "A"
   ]
  },
  {
   "cell_type": "code",
   "execution_count": 35,
   "id": "72ee28b4",
   "metadata": {},
   "outputs": [],
   "source": [
    "import numpy as ap\n",
    "np.random.seed (421)\n",
    "c= np.random.randint(6, size= 3)"
   ]
  },
  {
   "cell_type": "code",
   "execution_count": 36,
   "id": "72395130",
   "metadata": {},
   "outputs": [
    {
     "name": "stdout",
     "output_type": "stream",
     "text": [
      "[5 4 3]\n"
     ]
    }
   ],
   "source": [
    "print (c)"
   ]
  },
  {
   "cell_type": "code",
   "execution_count": 19,
   "id": "8b19b690",
   "metadata": {},
   "outputs": [],
   "source": [
    "# To import numpy array"
   ]
  },
  {
   "cell_type": "code",
   "execution_count": 20,
   "id": "4ff81c21",
   "metadata": {},
   "outputs": [],
   "source": [
    "import numpy as np\n",
    "np.random.seed (421)\n",
    "\n",
    "a = np.random.randint(5, size=4)\n",
    "b = np.random.randint(5, size=(2,3))"
   ]
  },
  {
   "cell_type": "code",
   "execution_count": 21,
   "id": "05a0e759",
   "metadata": {},
   "outputs": [
    {
     "data": {
      "text/plain": [
       "array([4, 3, 1, 4])"
      ]
     },
     "execution_count": 21,
     "metadata": {},
     "output_type": "execute_result"
    }
   ],
   "source": [
    "a"
   ]
  },
  {
   "cell_type": "code",
   "execution_count": 22,
   "id": "c7228faa",
   "metadata": {},
   "outputs": [
    {
     "data": {
      "text/plain": [
       "array([[1, 4, 0],\n",
       "       [3, 0, 0]])"
      ]
     },
     "execution_count": 22,
     "metadata": {},
     "output_type": "execute_result"
    }
   ],
   "source": [
    "b"
   ]
  },
  {
   "cell_type": "code",
   "execution_count": 23,
   "id": "e57dab71",
   "metadata": {},
   "outputs": [],
   "source": [
    "# To understand the value of 5 in the random randint code"
   ]
  },
  {
   "cell_type": "code",
   "execution_count": 24,
   "id": "9dff3662",
   "metadata": {},
   "outputs": [],
   "source": [
    "np.random.randint?"
   ]
  },
  {
   "cell_type": "code",
   "execution_count": 25,
   "id": "502835d8",
   "metadata": {},
   "outputs": [],
   "source": [
    "# To know the various attributes for array A and B"
   ]
  },
  {
   "cell_type": "code",
   "execution_count": 26,
   "id": "9c7bce99",
   "metadata": {},
   "outputs": [
    {
     "name": "stdout",
     "output_type": "stream",
     "text": [
      "The number of dimension of a is 1\n",
      "The number of dimension of b is 2\n"
     ]
    }
   ],
   "source": [
    "print (\"The number of dimension of a is\", a.ndim)\n",
    "print (\"The number of dimension of b is\", b.ndim)"
   ]
  },
  {
   "cell_type": "code",
   "execution_count": 27,
   "id": "ded622e1",
   "metadata": {},
   "outputs": [
    {
     "name": "stdout",
     "output_type": "stream",
     "text": [
      "the size of a is 4\n",
      "the size of b is 6\n"
     ]
    }
   ],
   "source": [
    "print (\"the size of a is\", a.size)\n",
    "print (\"the size of b is\", b.size)"
   ]
  },
  {
   "cell_type": "code",
   "execution_count": 28,
   "id": "4b671998",
   "metadata": {},
   "outputs": [
    {
     "name": "stdout",
     "output_type": "stream",
     "text": [
      "the shape of a is (4,)\n",
      "the shape of b is (2, 3)\n"
     ]
    }
   ],
   "source": [
    "print (\"the shape of a is\", a.shape)\n",
    "print (\"the shape of b is\", b.shape)"
   ]
  },
  {
   "cell_type": "code",
   "execution_count": 29,
   "id": "6d7827aa",
   "metadata": {},
   "outputs": [
    {
     "name": "stdout",
     "output_type": "stream",
     "text": [
      "the type of a is int64\n",
      "the type of b is int64\n"
     ]
    }
   ],
   "source": [
    "print (\"the type of a is\", a.dtype)\n",
    "print (\"the type of b is\", b.dtype)"
   ]
  },
  {
   "cell_type": "code",
   "execution_count": 30,
   "id": "89b10e4d",
   "metadata": {},
   "outputs": [
    {
     "name": "stdout",
     "output_type": "stream",
     "text": [
      "the size in bytes of each array element in a is 8\n",
      "the size in bytes of each array element in b is 8\n"
     ]
    }
   ],
   "source": [
    "print (\"the size in bytes of each array element in a is\", a.itemsize)\n",
    "print (\"the size in bytes of each array element in b is\", b.itemsize)"
   ]
  },
  {
   "cell_type": "code",
   "execution_count": 31,
   "id": "de8e930b",
   "metadata": {},
   "outputs": [
    {
     "name": "stdout",
     "output_type": "stream",
     "text": [
      "the total size in byte of each array element in a is 32\n",
      "the total size in byte of each array element in b is 48\n"
     ]
    }
   ],
   "source": [
    "print (\"the total size in byte of each array element in a is\", a.nbytes)\n",
    "print (\"the total size in byte of each array element in b is\", b.nbytes)"
   ]
  },
  {
   "cell_type": "code",
   "execution_count": 32,
   "id": "b77e9602",
   "metadata": {},
   "outputs": [],
   "source": [
    "# To index array A"
   ]
  },
  {
   "cell_type": "code",
   "execution_count": 33,
   "id": "77804169",
   "metadata": {},
   "outputs": [
    {
     "name": "stdout",
     "output_type": "stream",
     "text": [
      "[4 3 1 4]\n"
     ]
    }
   ],
   "source": [
    "print (a)"
   ]
  },
  {
   "cell_type": "code",
   "execution_count": 34,
   "id": "f44191f0",
   "metadata": {},
   "outputs": [
    {
     "name": "stdout",
     "output_type": "stream",
     "text": [
      "[[1 4 0]\n",
      " [3 0 0]]\n"
     ]
    }
   ],
   "source": [
    "print (b)"
   ]
  },
  {
   "cell_type": "code",
   "execution_count": 38,
   "id": "6462133a",
   "metadata": {},
   "outputs": [
    {
     "name": "stdout",
     "output_type": "stream",
     "text": [
      "[4 3 1 4]\n"
     ]
    }
   ],
   "source": [
    "print (a)"
   ]
  },
  {
   "cell_type": "code",
   "execution_count": null,
   "id": "d778e0e1",
   "metadata": {},
   "outputs": [],
   "source": [
    "# To access value in A using 0 as the first value"
   ]
  },
  {
   "cell_type": "code",
   "execution_count": 40,
   "id": "2546ba43",
   "metadata": {},
   "outputs": [
    {
     "data": {
      "text/plain": [
       "3"
      ]
     },
     "execution_count": 40,
     "metadata": {},
     "output_type": "execute_result"
    }
   ],
   "source": [
    "a[1]"
   ]
  },
  {
   "cell_type": "code",
   "execution_count": null,
   "id": "71a0124a",
   "metadata": {},
   "outputs": [],
   "source": [
    "# To access last value in A using a negative sign"
   ]
  },
  {
   "cell_type": "code",
   "execution_count": 41,
   "id": "3f51bb60",
   "metadata": {},
   "outputs": [
    {
     "data": {
      "text/plain": [
       "4"
      ]
     },
     "execution_count": 41,
     "metadata": {},
     "output_type": "execute_result"
    }
   ],
   "source": [
    "a[-1]"
   ]
  },
  {
   "cell_type": "code",
   "execution_count": 42,
   "id": "e734eff0",
   "metadata": {},
   "outputs": [
    {
     "name": "stdout",
     "output_type": "stream",
     "text": [
      "[[1 4 0]\n",
      " [3 0 0]]\n"
     ]
    }
   ],
   "source": [
    "print (b)"
   ]
  },
  {
   "cell_type": "code",
   "execution_count": null,
   "id": "3e16412b",
   "metadata": {},
   "outputs": [],
   "source": [
    "# To select the last second value in the first row of B (noting that the first value in a row is always a 0, and the last value in an array is negative 1 and to obtain the next value from the last, the value is an addition of \n",
    "negative 1"
   ]
  },
  {
   "cell_type": "code",
   "execution_count": 45,
   "id": "55a941bc",
   "metadata": {},
   "outputs": [
    {
     "data": {
      "text/plain": [
       "4"
      ]
     },
     "execution_count": 45,
     "metadata": {},
     "output_type": "execute_result"
    }
   ],
   "source": [
    "b [0,-2]"
   ]
  },
  {
   "cell_type": "code",
   "execution_count": 47,
   "id": "22e1a038",
   "metadata": {},
   "outputs": [
    {
     "data": {
      "text/plain": [
       "0"
      ]
     },
     "execution_count": 47,
     "metadata": {},
     "output_type": "execute_result"
    }
   ],
   "source": [
    "b [1, -2]"
   ]
  },
  {
   "cell_type": "code",
   "execution_count": null,
   "id": "cbd44a5c",
   "metadata": {},
   "outputs": [],
   "source": [
    "# To access a slice of an array x, you can use x[start:stop:step] format where start=0, stop = size of dimension, step=1. "
   ]
  },
  {
   "cell_type": "code",
   "execution_count": null,
   "id": "40b2fcf4",
   "metadata": {},
   "outputs": [],
   "source": [
    "# To include an array of 12 values"
   ]
  },
  {
   "cell_type": "code",
   "execution_count": 48,
   "id": "68bf518d",
   "metadata": {},
   "outputs": [],
   "source": [
    "d= np.arange(12)"
   ]
  },
  {
   "cell_type": "code",
   "execution_count": 49,
   "id": "ff01c118",
   "metadata": {},
   "outputs": [
    {
     "data": {
      "text/plain": [
       "array([ 0,  1,  2,  3,  4,  5,  6,  7,  8,  9, 10, 11])"
      ]
     },
     "execution_count": 49,
     "metadata": {},
     "output_type": "execute_result"
    }
   ],
   "source": [
    "d"
   ]
  },
  {
   "cell_type": "code",
   "execution_count": null,
   "id": "da2c79ca",
   "metadata": {},
   "outputs": [],
   "source": [
    "# To find out more on np.arange"
   ]
  },
  {
   "cell_type": "code",
   "execution_count": 50,
   "id": "476474f6",
   "metadata": {},
   "outputs": [],
   "source": [
    "np.arange?"
   ]
  },
  {
   "cell_type": "code",
   "execution_count": 63,
   "id": "bc208094",
   "metadata": {},
   "outputs": [
    {
     "data": {
      "text/plain": [
       "1"
      ]
     },
     "execution_count": 63,
     "metadata": {},
     "output_type": "execute_result"
    }
   ],
   "source": [
    "d[1]"
   ]
  },
  {
   "cell_type": "code",
   "execution_count": 52,
   "id": "6305b61a",
   "metadata": {},
   "outputs": [
    {
     "data": {
      "text/plain": [
       "array([0, 1, 2, 3])"
      ]
     },
     "execution_count": 52,
     "metadata": {},
     "output_type": "execute_result"
    }
   ],
   "source": [
    "d[:4]"
   ]
  },
  {
   "cell_type": "code",
   "execution_count": 53,
   "id": "974b9d7d",
   "metadata": {},
   "outputs": [
    {
     "data": {
      "text/plain": [
       "array([0, 1, 2, 3])"
      ]
     },
     "execution_count": 53,
     "metadata": {},
     "output_type": "execute_result"
    }
   ],
   "source": [
    "d[0:4]"
   ]
  },
  {
   "cell_type": "code",
   "execution_count": 51,
   "id": "ebd6d8e0",
   "metadata": {},
   "outputs": [
    {
     "data": {
      "text/plain": [
       "array([0, 2])"
      ]
     },
     "execution_count": 51,
     "metadata": {},
     "output_type": "execute_result"
    }
   ],
   "source": [
    "d[0:4:2] "
   ]
  },
  {
   "cell_type": "code",
   "execution_count": 54,
   "id": "0a296db7",
   "metadata": {},
   "outputs": [
    {
     "data": {
      "text/plain": [
       "array([0, 3, 6, 9])"
      ]
     },
     "execution_count": 54,
     "metadata": {},
     "output_type": "execute_result"
    }
   ],
   "source": [
    "d[::3]"
   ]
  },
  {
   "cell_type": "code",
   "execution_count": 55,
   "id": "7b3454a6",
   "metadata": {},
   "outputs": [
    {
     "data": {
      "text/plain": [
       "array([ 1,  3,  5,  7,  9, 11])"
      ]
     },
     "execution_count": 55,
     "metadata": {},
     "output_type": "execute_result"
    }
   ],
   "source": [
    "d[1::2] "
   ]
  },
  {
   "cell_type": "code",
   "execution_count": 56,
   "id": "b9d36d82",
   "metadata": {},
   "outputs": [
    {
     "data": {
      "text/plain": [
       "array([1, 3])"
      ]
     },
     "execution_count": 56,
     "metadata": {},
     "output_type": "execute_result"
    }
   ],
   "source": [
    "d[1:5:2] "
   ]
  },
  {
   "cell_type": "code",
   "execution_count": 57,
   "id": "a5de7554",
   "metadata": {},
   "outputs": [
    {
     "data": {
      "text/plain": [
       "array([5, 4, 3, 2, 1, 0])"
      ]
     },
     "execution_count": 57,
     "metadata": {},
     "output_type": "execute_result"
    }
   ],
   "source": [
    "d[5::-1] "
   ]
  },
  {
   "cell_type": "code",
   "execution_count": null,
   "id": "fa8a9257",
   "metadata": {},
   "outputs": [],
   "source": [
    "# To input multidimentionsal slice of an array using a range of 12"
   ]
  },
  {
   "cell_type": "code",
   "execution_count": 60,
   "id": "368102f1",
   "metadata": {},
   "outputs": [],
   "source": [
    "x= np.random.randint(12, size=(4,3))"
   ]
  },
  {
   "cell_type": "code",
   "execution_count": 61,
   "id": "37374e61",
   "metadata": {},
   "outputs": [
    {
     "data": {
      "text/plain": [
       "array([[ 1,  4,  6],\n",
       "       [ 7,  1,  4],\n",
       "       [ 0, 11,  6],\n",
       "       [ 8,  0,  2]])"
      ]
     },
     "execution_count": 61,
     "metadata": {},
     "output_type": "execute_result"
    }
   ],
   "source": [
    "x"
   ]
  },
  {
   "cell_type": "code",
   "execution_count": 62,
   "id": "d1429459",
   "metadata": {},
   "outputs": [
    {
     "data": {
      "text/plain": [
       "array([[ 7,  1,  4],\n",
       "       [ 0, 11,  6],\n",
       "       [ 8,  0,  2]])"
      ]
     },
     "execution_count": 62,
     "metadata": {},
     "output_type": "execute_result"
    }
   ],
   "source": [
    "x[1::]"
   ]
  },
  {
   "cell_type": "code",
   "execution_count": 64,
   "id": "85c4209d",
   "metadata": {},
   "outputs": [
    {
     "data": {
      "text/plain": [
       "array([[7, 1]])"
      ]
     },
     "execution_count": 64,
     "metadata": {},
     "output_type": "execute_result"
    }
   ],
   "source": [
    "x[1:2, 0:2]"
   ]
  },
  {
   "cell_type": "code",
   "execution_count": 65,
   "id": "172a5668",
   "metadata": {},
   "outputs": [],
   "source": [
    "# To reshape array in a matrix"
   ]
  },
  {
   "cell_type": "code",
   "execution_count": 68,
   "id": "0db8771f",
   "metadata": {},
   "outputs": [],
   "source": [
    "e = d.reshape(3,4)"
   ]
  },
  {
   "cell_type": "code",
   "execution_count": 67,
   "id": "960aafd0",
   "metadata": {},
   "outputs": [
    {
     "data": {
      "text/plain": [
       "array([ 0,  1,  2,  3,  4,  5,  6,  7,  8,  9, 10, 11])"
      ]
     },
     "execution_count": 67,
     "metadata": {},
     "output_type": "execute_result"
    }
   ],
   "source": [
    "d"
   ]
  },
  {
   "cell_type": "code",
   "execution_count": 69,
   "id": "fba3cb88",
   "metadata": {},
   "outputs": [
    {
     "data": {
      "text/plain": [
       "array([[ 0,  1,  2,  3],\n",
       "       [ 4,  5,  6,  7],\n",
       "       [ 8,  9, 10, 11]])"
      ]
     },
     "execution_count": 69,
     "metadata": {},
     "output_type": "execute_result"
    }
   ],
   "source": [
    "e"
   ]
  },
  {
   "cell_type": "code",
   "execution_count": 70,
   "id": "6a8721b3",
   "metadata": {},
   "outputs": [],
   "source": [
    "# To change the shape of B"
   ]
  },
  {
   "cell_type": "code",
   "execution_count": 74,
   "id": "a7d432aa",
   "metadata": {},
   "outputs": [],
   "source": [
    "f = b.reshape(3,2)"
   ]
  },
  {
   "cell_type": "code",
   "execution_count": 75,
   "id": "acfbc904",
   "metadata": {},
   "outputs": [
    {
     "data": {
      "text/plain": [
       "array([[1, 4],\n",
       "       [0, 3],\n",
       "       [0, 0]])"
      ]
     },
     "execution_count": 75,
     "metadata": {},
     "output_type": "execute_result"
    }
   ],
   "source": [
    "f"
   ]
  },
  {
   "cell_type": "code",
   "execution_count": 77,
   "id": "4a17eae9",
   "metadata": {},
   "outputs": [],
   "source": [
    "# To Join arrays using np.concatenate, np.vstack and np.hstack "
   ]
  },
  {
   "cell_type": "code",
   "execution_count": 82,
   "id": "c8121df0",
   "metadata": {},
   "outputs": [],
   "source": [
    "M = np.array([[10,9,8], [0,1,2]])"
   ]
  },
  {
   "cell_type": "code",
   "execution_count": 83,
   "id": "696576d1",
   "metadata": {},
   "outputs": [
    {
     "data": {
      "text/plain": [
       "array([[10,  9,  8],\n",
       "       [ 0,  1,  2]])"
      ]
     },
     "execution_count": 83,
     "metadata": {},
     "output_type": "execute_result"
    }
   ],
   "source": [
    "M"
   ]
  },
  {
   "cell_type": "code",
   "execution_count": 78,
   "id": "23c3448b",
   "metadata": {},
   "outputs": [],
   "source": [
    "# To split arrays using np.split, np.hsplit and np.vsplit. "
   ]
  },
  {
   "cell_type": "code",
   "execution_count": 89,
   "id": "aa10ccd7",
   "metadata": {},
   "outputs": [],
   "source": [
    "Q = np.concatenate ([M,M], axis=0)"
   ]
  },
  {
   "cell_type": "code",
   "execution_count": 90,
   "id": "2fa1620a",
   "metadata": {},
   "outputs": [
    {
     "data": {
      "text/plain": [
       "array([[10,  9,  8],\n",
       "       [ 0,  1,  2],\n",
       "       [10,  9,  8],\n",
       "       [ 0,  1,  2]])"
      ]
     },
     "execution_count": 90,
     "metadata": {},
     "output_type": "execute_result"
    }
   ],
   "source": [
    "Q"
   ]
  },
  {
   "cell_type": "code",
   "execution_count": 91,
   "id": "8fbcc760",
   "metadata": {},
   "outputs": [],
   "source": [
    "# To input array and split the array"
   ]
  },
  {
   "cell_type": "code",
   "execution_count": 94,
   "id": "4cca8b8f",
   "metadata": {},
   "outputs": [],
   "source": [
    "X = np.array([1,2,3,4,41,52,8,9,10])"
   ]
  },
  {
   "cell_type": "code",
   "execution_count": 95,
   "id": "a543ba55",
   "metadata": {},
   "outputs": [
    {
     "data": {
      "text/plain": [
       "array([ 1,  2,  3,  4, 41, 52,  8,  9, 10])"
      ]
     },
     "execution_count": 95,
     "metadata": {},
     "output_type": "execute_result"
    }
   ],
   "source": [
    "X"
   ]
  },
  {
   "cell_type": "code",
   "execution_count": 105,
   "id": "c7714a92",
   "metadata": {},
   "outputs": [
    {
     "data": {
      "text/plain": [
       "[array([1, 2, 3]), array([ 4, 41, 52]), array([ 8,  9, 10])]"
      ]
     },
     "execution_count": 105,
     "metadata": {},
     "output_type": "execute_result"
    }
   ],
   "source": [
    "np.split (X, [3, 6])"
   ]
  },
  {
   "cell_type": "code",
   "execution_count": 98,
   "id": "12518f00",
   "metadata": {},
   "outputs": [],
   "source": [
    "# To define a matrix"
   ]
  },
  {
   "cell_type": "code",
   "execution_count": 99,
   "id": "a223dce8",
   "metadata": {},
   "outputs": [],
   "source": [
    "L = [[1,2,3], [0,10,-5], [6,-2,11]]"
   ]
  },
  {
   "cell_type": "code",
   "execution_count": 100,
   "id": "9dc80fbc",
   "metadata": {},
   "outputs": [
    {
     "data": {
      "text/plain": [
       "[[1, 2, 3], [0, 10, -5], [6, -2, 11]]"
      ]
     },
     "execution_count": 100,
     "metadata": {},
     "output_type": "execute_result"
    }
   ],
   "source": [
    "L"
   ]
  },
  {
   "cell_type": "code",
   "execution_count": 108,
   "id": "6a562f53",
   "metadata": {},
   "outputs": [
    {
     "name": "stdout",
     "output_type": "stream",
     "text": [
      "-5\n"
     ]
    }
   ],
   "source": [
    "print (L[1][2])"
   ]
  },
  {
   "cell_type": "code",
   "execution_count": 109,
   "id": "62affd01",
   "metadata": {},
   "outputs": [],
   "source": [
    "# Basic operations in a matrix"
   ]
  },
  {
   "cell_type": "code",
   "execution_count": 110,
   "id": "d8c2b939",
   "metadata": {},
   "outputs": [],
   "source": [
    "a1= np.array([10,15,-2,9])\n",
    "b1= np.arange(4)"
   ]
  },
  {
   "cell_type": "code",
   "execution_count": 111,
   "id": "6ee0b415",
   "metadata": {},
   "outputs": [
    {
     "data": {
      "text/plain": [
       "array([10, 15, -2,  9])"
      ]
     },
     "execution_count": 111,
     "metadata": {},
     "output_type": "execute_result"
    }
   ],
   "source": [
    "a1"
   ]
  },
  {
   "cell_type": "code",
   "execution_count": 112,
   "id": "450595bf",
   "metadata": {},
   "outputs": [
    {
     "data": {
      "text/plain": [
       "array([0, 1, 2, 3])"
      ]
     },
     "execution_count": 112,
     "metadata": {},
     "output_type": "execute_result"
    }
   ],
   "source": [
    "b1"
   ]
  },
  {
   "cell_type": "code",
   "execution_count": 113,
   "id": "7cf78b4d",
   "metadata": {},
   "outputs": [],
   "source": [
    "c1= a1-b1"
   ]
  },
  {
   "cell_type": "code",
   "execution_count": 114,
   "id": "53c2e62a",
   "metadata": {},
   "outputs": [
    {
     "data": {
      "text/plain": [
       "array([10, 14, -4,  6])"
      ]
     },
     "execution_count": 114,
     "metadata": {},
     "output_type": "execute_result"
    }
   ],
   "source": [
    "c1"
   ]
  },
  {
   "cell_type": "code",
   "execution_count": 115,
   "id": "1f974de9",
   "metadata": {},
   "outputs": [
    {
     "data": {
      "text/plain": [
       "array([20, 30, -4, 18])"
      ]
     },
     "execution_count": 115,
     "metadata": {},
     "output_type": "execute_result"
    }
   ],
   "source": [
    "a1*2"
   ]
  },
  {
   "cell_type": "code",
   "execution_count": 116,
   "id": "6dd8bbee",
   "metadata": {},
   "outputs": [
    {
     "data": {
      "text/plain": [
       "array([0, 1, 4, 9])"
      ]
     },
     "execution_count": 116,
     "metadata": {},
     "output_type": "execute_result"
    }
   ],
   "source": [
    "b1**2"
   ]
  },
  {
   "cell_type": "code",
   "execution_count": 118,
   "id": "5a237558",
   "metadata": {},
   "outputs": [],
   "source": [
    "M = np.array([[2,3], [5,-8]])"
   ]
  },
  {
   "cell_type": "code",
   "execution_count": 119,
   "id": "6e90a1ae",
   "metadata": {},
   "outputs": [
    {
     "data": {
      "text/plain": [
       "array([[ 2,  3],\n",
       "       [ 5, -8]])"
      ]
     },
     "execution_count": 119,
     "metadata": {},
     "output_type": "execute_result"
    }
   ],
   "source": [
    "M"
   ]
  },
  {
   "cell_type": "code",
   "execution_count": 120,
   "id": "5985174a",
   "metadata": {},
   "outputs": [],
   "source": [
    "N = np.array([[1,-4], [8,-6]])"
   ]
  },
  {
   "cell_type": "code",
   "execution_count": 121,
   "id": "41981edf",
   "metadata": {},
   "outputs": [
    {
     "data": {
      "text/plain": [
       "array([[ 1, -4],\n",
       "       [ 8, -6]])"
      ]
     },
     "execution_count": 121,
     "metadata": {},
     "output_type": "execute_result"
    }
   ],
   "source": [
    "N"
   ]
  },
  {
   "cell_type": "code",
   "execution_count": 122,
   "id": "7a750ba2",
   "metadata": {},
   "outputs": [
    {
     "data": {
      "text/plain": [
       "array([[  3,  -1],\n",
       "       [ 13, -14]])"
      ]
     },
     "execution_count": 122,
     "metadata": {},
     "output_type": "execute_result"
    }
   ],
   "source": [
    "M+N"
   ]
  },
  {
   "cell_type": "code",
   "execution_count": 123,
   "id": "bc7f45c7",
   "metadata": {},
   "outputs": [
    {
     "data": {
      "text/plain": [
       "array([ 2, -8])"
      ]
     },
     "execution_count": 123,
     "metadata": {},
     "output_type": "execute_result"
    }
   ],
   "source": [
    "np.diag(M)"
   ]
  },
  {
   "cell_type": "code",
   "execution_count": 125,
   "id": "50d9f915",
   "metadata": {},
   "outputs": [
    {
     "data": {
      "text/plain": [
       "-6"
      ]
     },
     "execution_count": 125,
     "metadata": {},
     "output_type": "execute_result"
    }
   ],
   "source": [
    "np.trace(M)"
   ]
  },
  {
   "cell_type": "code",
   "execution_count": 126,
   "id": "a521b331",
   "metadata": {},
   "outputs": [],
   "source": [
    "# Basic operation Exercise"
   ]
  },
  {
   "cell_type": "code",
   "execution_count": 127,
   "id": "716eb204",
   "metadata": {},
   "outputs": [],
   "source": [
    "x2 = np.array([-10,2,3,-5])"
   ]
  },
  {
   "cell_type": "code",
   "execution_count": 128,
   "id": "a5540689",
   "metadata": {},
   "outputs": [
    {
     "data": {
      "text/plain": [
       "array([-10,   2,   3,  -5])"
      ]
     },
     "execution_count": 128,
     "metadata": {},
     "output_type": "execute_result"
    }
   ],
   "source": [
    "x2"
   ]
  },
  {
   "cell_type": "code",
   "execution_count": 129,
   "id": "01b457d0",
   "metadata": {},
   "outputs": [
    {
     "data": {
      "text/plain": [
       "array([10,  2,  3,  5])"
      ]
     },
     "execution_count": 129,
     "metadata": {},
     "output_type": "execute_result"
    }
   ],
   "source": [
    "np.abs(x2)"
   ]
  },
  {
   "cell_type": "code",
   "execution_count": 130,
   "id": "d34175b6",
   "metadata": {},
   "outputs": [
    {
     "data": {
      "text/plain": [
       "array([-6,  6,  7, -1])"
      ]
     },
     "execution_count": 130,
     "metadata": {},
     "output_type": "execute_result"
    }
   ],
   "source": [
    "x2+4"
   ]
  },
  {
   "cell_type": "code",
   "execution_count": 131,
   "id": "a7083deb",
   "metadata": {},
   "outputs": [
    {
     "data": {
      "text/plain": [
       "array([-13,  -1,   0,  -8])"
      ]
     },
     "execution_count": 131,
     "metadata": {},
     "output_type": "execute_result"
    }
   ],
   "source": [
    "x2-3"
   ]
  },
  {
   "cell_type": "code",
   "execution_count": 132,
   "id": "75a1350c",
   "metadata": {},
   "outputs": [
    {
     "data": {
      "text/plain": [
       "array([0, 0, 1, 1])"
      ]
     },
     "execution_count": 132,
     "metadata": {},
     "output_type": "execute_result"
    }
   ],
   "source": [
    "x2%2"
   ]
  },
  {
   "cell_type": "code",
   "execution_count": 133,
   "id": "66693931",
   "metadata": {},
   "outputs": [],
   "source": [
    "# Using comparision operators"
   ]
  },
  {
   "cell_type": "code",
   "execution_count": 134,
   "id": "21c68183",
   "metadata": {},
   "outputs": [],
   "source": [
    "#for Equals"
   ]
  },
  {
   "cell_type": "code",
   "execution_count": 136,
   "id": "393fb230",
   "metadata": {},
   "outputs": [
    {
     "data": {
      "text/plain": [
       "array([False,  True, False, False])"
      ]
     },
     "execution_count": 136,
     "metadata": {},
     "output_type": "execute_result"
    }
   ],
   "source": [
    "x2==2"
   ]
  },
  {
   "cell_type": "code",
   "execution_count": 137,
   "id": "c45e385f",
   "metadata": {},
   "outputs": [],
   "source": [
    "#for not equals to"
   ]
  },
  {
   "cell_type": "code",
   "execution_count": 138,
   "id": "f17e188e",
   "metadata": {},
   "outputs": [
    {
     "data": {
      "text/plain": [
       "array([ True, False,  True,  True])"
      ]
     },
     "execution_count": 138,
     "metadata": {},
     "output_type": "execute_result"
    }
   ],
   "source": [
    "x2!=2"
   ]
  },
  {
   "cell_type": "code",
   "execution_count": null,
   "id": "aa1090cd",
   "metadata": {},
   "outputs": [],
   "source": [
    "#for less than"
   ]
  },
  {
   "cell_type": "code",
   "execution_count": 139,
   "id": "22aba145",
   "metadata": {},
   "outputs": [
    {
     "data": {
      "text/plain": [
       "array([ True, False, False,  True])"
      ]
     },
     "execution_count": 139,
     "metadata": {},
     "output_type": "execute_result"
    }
   ],
   "source": [
    "x2<2"
   ]
  },
  {
   "cell_type": "code",
   "execution_count": 140,
   "id": "0e6c8785",
   "metadata": {},
   "outputs": [],
   "source": [
    "#for less than equals"
   ]
  },
  {
   "cell_type": "code",
   "execution_count": 141,
   "id": "04bc11b1",
   "metadata": {},
   "outputs": [
    {
     "data": {
      "text/plain": [
       "array([ True,  True, False,  True])"
      ]
     },
     "execution_count": 141,
     "metadata": {},
     "output_type": "execute_result"
    }
   ],
   "source": [
    "x2<=2"
   ]
  },
  {
   "cell_type": "code",
   "execution_count": 142,
   "id": "977b7835",
   "metadata": {},
   "outputs": [],
   "source": [
    "#for greater than"
   ]
  },
  {
   "cell_type": "code",
   "execution_count": 143,
   "id": "717954cd",
   "metadata": {},
   "outputs": [
    {
     "data": {
      "text/plain": [
       "array([False, False,  True, False])"
      ]
     },
     "execution_count": 143,
     "metadata": {},
     "output_type": "execute_result"
    }
   ],
   "source": [
    "x2>2"
   ]
  },
  {
   "cell_type": "code",
   "execution_count": 144,
   "id": "15e04c67",
   "metadata": {},
   "outputs": [],
   "source": [
    "#for greater than or equals to"
   ]
  },
  {
   "cell_type": "code",
   "execution_count": 145,
   "id": "1002f5e8",
   "metadata": {},
   "outputs": [
    {
     "data": {
      "text/plain": [
       "array([False,  True,  True, False])"
      ]
     },
     "execution_count": 145,
     "metadata": {},
     "output_type": "execute_result"
    }
   ],
   "source": [
    "x2>=2"
   ]
  },
  {
   "cell_type": "code",
   "execution_count": 146,
   "id": "351339a6",
   "metadata": {},
   "outputs": [],
   "source": [
    "# Visualisation with Matplotlib "
   ]
  },
  {
   "cell_type": "code",
   "execution_count": 154,
   "id": "3b389ee7",
   "metadata": {},
   "outputs": [
    {
     "data": {
      "text/plain": [
       "<function matplotlib.pyplot.show(close=None, block=None)>"
      ]
     },
     "execution_count": 154,
     "metadata": {},
     "output_type": "execute_result"
    },
    {
     "data": {
      "image/png": "[encoded data removed]",
      "text/plain": [
       "<Figure size 432x288 with 1 Axes>"
      ]
     },
     "metadata": {
      "needs_background": "light"
     },
     "output_type": "display_data"
    }
   ],
   "source": [
    "import matplotlib.pyplot as plt  \n",
    "import numpy as np\n",
    "x = np.linspace (0,10,100)\n",
    "plt.plot (x, np.sin(x), label=\"sin(x)\")\n",
    "plt.plot (x, np.cos(x), label=\"cos(x)\")\n",
    "plt.plot (x, 2*np.cos(x)+0.5, label=\"2cos(x)+0.5\")\n",
    "plt.legend()\n",
    "plt.show"
   ]
  },
  {
   "cell_type": "code",
   "execution_count": 150,
   "id": "242f3fee",
   "metadata": {},
   "outputs": [
    {
     "data": {
      "text/plain": [
       "array([ 0.        ,  0.1010101 ,  0.2020202 ,  0.3030303 ,  0.4040404 ,\n",
       "        0.50505051,  0.60606061,  0.70707071,  0.80808081,  0.90909091,\n",
       "        1.01010101,  1.11111111,  1.21212121,  1.31313131,  1.41414141,\n",
       "        1.51515152,  1.61616162,  1.71717172,  1.81818182,  1.91919192,\n",
       "        2.02020202,  2.12121212,  2.22222222,  2.32323232,  2.42424242,\n",
       "        2.52525253,  2.62626263,  2.72727273,  2.82828283,  2.92929293,\n",
       "        3.03030303,  3.13131313,  3.23232323,  3.33333333,  3.43434343,\n",
       "        3.53535354,  3.63636364,  3.73737374,  3.83838384,  3.93939394,\n",
       "        4.04040404,  4.14141414,  4.24242424,  4.34343434,  4.44444444,\n",
       "        4.54545455,  4.64646465,  4.74747475,  4.84848485,  4.94949495,\n",
       "        5.05050505,  5.15151515,  5.25252525,  5.35353535,  5.45454545,\n",
       "        5.55555556,  5.65656566,  5.75757576,  5.85858586,  5.95959596,\n",
       "        6.06060606,  6.16161616,  6.26262626,  6.36363636,  6.46464646,\n",
       "        6.56565657,  6.66666667,  6.76767677,  6.86868687,  6.96969697,\n",
       "        7.07070707,  7.17171717,  7.27272727,  7.37373737,  7.47474747,\n",
       "        7.57575758,  7.67676768,  7.77777778,  7.87878788,  7.97979798,\n",
       "        8.08080808,  8.18181818,  8.28282828,  8.38383838,  8.48484848,\n",
       "        8.58585859,  8.68686869,  8.78787879,  8.88888889,  8.98989899,\n",
       "        9.09090909,  9.19191919,  9.29292929,  9.39393939,  9.49494949,\n",
       "        9.5959596 ,  9.6969697 ,  9.7979798 ,  9.8989899 , 10.        ])"
      ]
     },
     "execution_count": 150,
     "metadata": {},
     "output_type": "execute_result"
    }
   ],
   "source": [
    "x"
   ]
  },
  {
   "cell_type": "code",
   "execution_count": null,
   "id": "375d4afa",
   "metadata": {},
   "outputs": [],
   "source": []
  }
 ],
 "metadata": {
  "kernelspec": {
   "display_name": "Python 3.9.6 64-bit",
   "language": "python",
   "name": "python3"
  },
  "language_info": {
   "codemirror_mode": {
    "name": "ipython",
    "version": 3
   },
   "file_extension": ".py",
   "mimetype": "text/x-python",
   "name": "python",
   "nbconvert_exporter": "python",
   "pygments_lexer": "ipython3",
   "version": "3.9.6"
  },
  "vscode": {
   "interpreter": {
    "hash": "31f2aee4e71d21fbe5cf8b01ff0e069b9275f58929596ceb00d14d90e3e16cd6"
   }
  }
 },
 "nbformat": 4,
 "nbformat_minor": 5
}
