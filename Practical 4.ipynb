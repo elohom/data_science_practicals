{
 "cells": [
  {
   "cell_type": "code",
   "execution_count": 1,
   "id": "4181cec6",
   "metadata": {},
   "outputs": [],
   "source": [
    " Set construction (to create a set in python using finiteset)"
   ]
  },
  {
   "cell_type": "code",
   "execution_count": 3,
   "id": "3d3be414",
   "metadata": {},
   "outputs": [
    {
     "name": "stdout",
     "output_type": "stream",
     "text": [
      "{1, 2, 3, 4, 5, 6, 7, 8, 9}\n"
     ]
    }
   ],
   "source": [
    "from sympy import FiniteSet\n",
    "set1 = FiniteSet (1,2,3,4,5,6,7,8,9)\n",
    "print (set1)"
   ]
  },
  {
   "cell_type": "code",
   "execution_count": 4,
   "id": "90a5cf8c",
   "metadata": {},
   "outputs": [
    {
     "name": "stdout",
     "output_type": "stream",
     "text": [
      "{1, 2, 3, 4, 5, 6, 7, 8, 9}\n"
     ]
    }
   ],
   "source": [
    "print(set1)\n"
   ]
  },
  {
   "cell_type": "code",
   "execution_count": 5,
   "id": "b75a8495",
   "metadata": {},
   "outputs": [],
   "source": [
    "# Task 1"
   ]
  },
  {
   "cell_type": "code",
   "execution_count": 6,
   "id": "1269fe56",
   "metadata": {},
   "outputs": [],
   "source": [
    "s1 = FiniteSet (2/5,4,10.6)\n",
    "s2 = FiniteSet ()"
   ]
  },
  {
   "cell_type": "code",
   "execution_count": 7,
   "id": "b224092c",
   "metadata": {},
   "outputs": [
    {
     "name": "stdout",
     "output_type": "stream",
     "text": [
      "{0.4, 4, 10.6}\n",
      "EmptySet\n"
     ]
    }
   ],
   "source": [
    "print (s1)\n",
    "print (s2)"
   ]
  },
  {
   "cell_type": "code",
   "execution_count": 9,
   "id": "9136aed8",
   "metadata": {},
   "outputs": [],
   "source": [
    "# To find the cardinality of a set"
   ]
  },
  {
   "cell_type": "code",
   "execution_count": 10,
   "id": "ac6625f2",
   "metadata": {},
   "outputs": [
    {
     "data": {
      "text/plain": [
       "9"
      ]
     },
     "execution_count": 10,
     "metadata": {},
     "output_type": "execute_result"
    }
   ],
   "source": [
    "len(set1)"
   ]
  },
  {
   "cell_type": "code",
   "execution_count": 11,
   "id": "2be93c9e",
   "metadata": {},
   "outputs": [
    {
     "data": {
      "text/plain": [
       "3"
      ]
     },
     "execution_count": 11,
     "metadata": {},
     "output_type": "execute_result"
    }
   ],
   "source": [
    "len (s1)"
   ]
  },
  {
   "cell_type": "code",
   "execution_count": 12,
   "id": "dbf6e0ec",
   "metadata": {},
   "outputs": [
    {
     "data": {
      "text/plain": [
       "0"
      ]
     },
     "execution_count": 12,
     "metadata": {},
     "output_type": "execute_result"
    }
   ],
   "source": [
    "len (s2)"
   ]
  },
  {
   "cell_type": "code",
   "execution_count": 13,
   "id": "a4e76c92",
   "metadata": {},
   "outputs": [],
   "source": [
    "#To create a list of members in a set"
   ]
  },
  {
   "cell_type": "code",
   "execution_count": 16,
   "id": "02ae4137",
   "metadata": {},
   "outputs": [
    {
     "data": {
      "text/latex": [
       "$\\displaystyle \\left\\{0, 2, 4, 6\\right\\}$"
      ],
      "text/plain": [
       "{0, 2, 4, 6}"
      ]
     },
     "execution_count": 16,
     "metadata": {},
     "output_type": "execute_result"
    }
   ],
   "source": [
    "L = (0,2,4,6)\n",
    "set2 = FiniteSet(*L)\n",
    "set2"
   ]
  },
  {
   "cell_type": "code",
   "execution_count": 17,
   "id": "495f6bd1",
   "metadata": {},
   "outputs": [
    {
     "data": {
      "text/plain": [
       "True"
      ]
     },
     "execution_count": 17,
     "metadata": {},
     "output_type": "execute_result"
    }
   ],
   "source": [
    "4 in set2"
   ]
  },
  {
   "cell_type": "code",
   "execution_count": 19,
   "id": "88bdd277",
   "metadata": {},
   "outputs": [
    {
     "data": {
      "text/plain": [
       "False"
      ]
     },
     "execution_count": 19,
     "metadata": {},
     "output_type": "execute_result"
    }
   ],
   "source": [
    "-1 in set2"
   ]
  },
  {
   "cell_type": "code",
   "execution_count": 20,
   "id": "03149592",
   "metadata": {},
   "outputs": [],
   "source": [
    "# To check two sets are equal with same element"
   ]
  },
  {
   "cell_type": "code",
   "execution_count": 23,
   "id": "59c509bf",
   "metadata": {},
   "outputs": [
    {
     "data": {
      "text/plain": [
       "True"
      ]
     },
     "execution_count": 23,
     "metadata": {},
     "output_type": "execute_result"
    }
   ],
   "source": [
    "set4 = FiniteSet (2,3,7)\n",
    "set5 = FiniteSet (3,2,7)\n",
    "set4 == set5"
   ]
  },
  {
   "cell_type": "code",
   "execution_count": 24,
   "id": "c3cd3585",
   "metadata": {},
   "outputs": [],
   "source": [
    "#To check if a set is a subset of another set"
   ]
  },
  {
   "cell_type": "code",
   "execution_count": 25,
   "id": "2c208654",
   "metadata": {},
   "outputs": [
    {
     "data": {
      "text/plain": [
       "True"
      ]
     },
     "execution_count": 25,
     "metadata": {},
     "output_type": "execute_result"
    }
   ],
   "source": [
    "s= FiniteSet(2)\n",
    "s.is_subset(set4)"
   ]
  },
  {
   "cell_type": "code",
   "execution_count": 27,
   "id": "47eee379",
   "metadata": {},
   "outputs": [
    {
     "data": {
      "text/plain": [
       "False"
      ]
     },
     "execution_count": 27,
     "metadata": {},
     "output_type": "execute_result"
    }
   ],
   "source": [
    "set4.is_subset(s)"
   ]
  },
  {
   "cell_type": "code",
   "execution_count": 28,
   "id": "ff6dd0ac",
   "metadata": {},
   "outputs": [
    {
     "data": {
      "text/plain": [
       "False"
      ]
     },
     "execution_count": 28,
     "metadata": {},
     "output_type": "execute_result"
    }
   ],
   "source": [
    "set4.is_proper_subset(s)"
   ]
  },
  {
   "cell_type": "code",
   "execution_count": 29,
   "id": "02329e44",
   "metadata": {},
   "outputs": [
    {
     "data": {
      "text/plain": [
       "True"
      ]
     },
     "execution_count": 29,
     "metadata": {},
     "output_type": "execute_result"
    }
   ],
   "source": [
    "s.is_proper_subset(set4)"
   ]
  },
  {
   "cell_type": "code",
   "execution_count": 30,
   "id": "88abe4a5",
   "metadata": {},
   "outputs": [
    {
     "data": {
      "text/plain": [
       "False"
      ]
     },
     "execution_count": 30,
     "metadata": {},
     "output_type": "execute_result"
    }
   ],
   "source": [
    "s1.is_proper_subset(s2)"
   ]
  },
  {
   "cell_type": "code",
   "execution_count": 31,
   "id": "3760a800",
   "metadata": {},
   "outputs": [
    {
     "data": {
      "text/plain": [
       "True"
      ]
     },
     "execution_count": 31,
     "metadata": {},
     "output_type": "execute_result"
    }
   ],
   "source": [
    "s2.is_proper_subset(s1)"
   ]
  },
  {
   "cell_type": "code",
   "execution_count": 32,
   "id": "d7f96d21",
   "metadata": {},
   "outputs": [
    {
     "data": {
      "text/plain": [
       "3"
      ]
     },
     "execution_count": 32,
     "metadata": {},
     "output_type": "execute_result"
    }
   ],
   "source": [
    "len(s1)"
   ]
  },
  {
   "cell_type": "code",
   "execution_count": 33,
   "id": "847a6577",
   "metadata": {},
   "outputs": [
    {
     "data": {
      "text/latex": [
       "$\\displaystyle \\left\\{\\emptyset, \\left\\{0.4\\right\\}, \\left\\{4\\right\\}, \\left\\{10.6\\right\\}, \\left\\{0.4, 4\\right\\}, \\left\\{0.4, 10.6\\right\\}, \\left\\{4, 10.6\\right\\}, \\left\\{0.4, 4, 10.6\\right\\}\\right\\}$"
      ],
      "text/plain": [
       "FiniteSet(EmptySet, {0.4}, {4}, {10.6}, {0.4, 4}, {0.4, 10.6}, {4, 10.6}, {0.4, 4, 10.6})"
      ]
     },
     "execution_count": 33,
     "metadata": {},
     "output_type": "execute_result"
    }
   ],
   "source": [
    "s1.powerset()"
   ]
  },
  {
   "cell_type": "code",
   "execution_count": 34,
   "id": "868e6008",
   "metadata": {},
   "outputs": [],
   "source": [
    "#Set operations"
   ]
  },
  {
   "cell_type": "code",
   "execution_count": 35,
   "id": "1438e565",
   "metadata": {},
   "outputs": [
    {
     "data": {
      "text/latex": [
       "$\\displaystyle \\left\\{0, 2, 3, 4, 6, 7\\right\\}$"
      ],
      "text/plain": [
       "{0, 2, 3, 4, 6, 7}"
      ]
     },
     "execution_count": 35,
     "metadata": {},
     "output_type": "execute_result"
    }
   ],
   "source": [
    "set2.union(set4)"
   ]
  },
  {
   "cell_type": "code",
   "execution_count": 36,
   "id": "00b1b363",
   "metadata": {},
   "outputs": [
    {
     "data": {
      "text/latex": [
       "$\\displaystyle \\left\\{2\\right\\}$"
      ],
      "text/plain": [
       "{2}"
      ]
     },
     "execution_count": 36,
     "metadata": {},
     "output_type": "execute_result"
    }
   ],
   "source": [
    "set2.intersect(set4).intersect(set1)"
   ]
  },
  {
   "cell_type": "code",
   "execution_count": 37,
   "id": "5ba79461",
   "metadata": {},
   "outputs": [],
   "source": [
    "#Cartesian product"
   ]
  },
  {
   "cell_type": "code",
   "execution_count": 41,
   "id": "34869119",
   "metadata": {},
   "outputs": [],
   "source": [
    "set6 = FiniteSet(1,3,5)"
   ]
  },
  {
   "cell_type": "code",
   "execution_count": 42,
   "id": "f4a91c2f",
   "metadata": {},
   "outputs": [],
   "source": [
    "M = set4*set6"
   ]
  },
  {
   "cell_type": "code",
   "execution_count": 43,
   "id": "c91db6f0",
   "metadata": {},
   "outputs": [
    {
     "data": {
      "text/latex": [
       "$\\displaystyle \\left\\{2, 3, 7\\right\\} \\times \\left\\{1, 3, 5\\right\\}$"
      ],
      "text/plain": [
       "ProductSet({2, 3, 7}, {1, 3, 5})"
      ]
     },
     "execution_count": 43,
     "metadata": {},
     "output_type": "execute_result"
    }
   ],
   "source": [
    "M"
   ]
  },
  {
   "cell_type": "code",
   "execution_count": null,
   "id": "0e19d82a",
   "metadata": {},
   "outputs": [],
   "source": []
  }
 ],
 "metadata": {
  "kernelspec": {
   "display_name": "Python 3 (ipykernel)",
   "language": "python",
   "name": "python3"
  },
  "language_info": {
   "codemirror_mode": {
    "name": "ipython",
    "version": 3
   },
   "file_extension": ".py",
   "mimetype": "text/x-python",
   "name": "python",
   "nbconvert_exporter": "python",
   "pygments_lexer": "ipython3",
   "version": "3.8.13"
  }
 },
 "nbformat": 4,
 "nbformat_minor": 5
}
